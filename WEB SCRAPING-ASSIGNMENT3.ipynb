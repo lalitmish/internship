{
 "cells": [
  {
   "cell_type": "markdown",
   "id": "a5350f6c",
   "metadata": {},
   "source": [
    "1.Write a python program which searches all the product under a particular product from www.amazon.in. The \n",
    "product to be searched will be taken as input from user. For e.g. If user input is ‘guitar’. Then search for \n",
    "guitars."
   ]
  },
  {
   "cell_type": "code",
   "execution_count": 1,
   "id": "da5048d9",
   "metadata": {},
   "outputs": [
    {
     "name": "stdout",
     "output_type": "stream",
     "text": [
      "Enter the product to search on Amazon.in: guitar\n"
     ]
    }
   ],
   "source": [
    "# import libraries\n",
    "import selenium\n",
    "import pandas as pd\n",
    "from selenium import webdriver\n",
    "import warnings\n",
    "warnings.filterwarnings('ignore')\n",
    "from selenium.webdriver.common.by import By\n",
    "import time\n",
    "from selenium.webdriver.common.keys import Keys\n",
    "import requests\n",
    "from selenium.common.exceptions import NoSuchElementException\n",
    "# first connect to the driver\n",
    "driver=webdriver.Chrome(r\"C:\\Users\\RB\\Desktop\\flip robo internship\\New folder\\chrome driver.exe\")\n",
    "#First get the webpage\n",
    "driver.get(\"https://www.amazon.in/\")\n",
    "\n",
    "# Take user input for the product to search\n",
    "search_query = input(\"Enter the product to search on Amazon.in: \")\n",
    "\n",
    "\n",
    "\n",
    "\n"
   ]
  },
  {
   "cell_type": "markdown",
   "id": "226a965f",
   "metadata": {},
   "source": [
    "#2. In the above question, now scrape the following details of each product listed in first 3 pages of your search \n",
    "results and save it in a data frame and csv. In case if any product has less than 3 pages in search results then \n",
    "scrape all the products available under that product name. Details to be scraped are: \"Brand \n",
    "Name\", \"Name of the Product\", \"Price\", \"Return/Exchange\", \"Expected Delivery\", \"Availability\" and \n",
    "“Product URL”. In case, if any of the details are missing for any of the product then replace it by “-“. "
   ]
  },
  {
   "cell_type": "code",
   "execution_count": 2,
   "id": "a3a3fbe3",
   "metadata": {},
   "outputs": [],
   "source": [
    "#First get the webpage\n",
    "driver.get(\"https://www.amazon.in/\")"
   ]
  },
  {
   "cell_type": "code",
   "execution_count": 4,
   "id": "8ff27d94",
   "metadata": {},
   "outputs": [
    {
     "ename": "KeyboardInterrupt",
     "evalue": "Interrupted by user",
     "output_type": "error",
     "traceback": [
      "\u001b[1;31m---------------------------------------------------------------------------\u001b[0m",
      "\u001b[1;31mKeyboardInterrupt\u001b[0m                         Traceback (most recent call last)",
      "Cell \u001b[1;32mIn[4], line 69\u001b[0m\n\u001b[0;32m     65\u001b[0m         \u001b[38;5;28;01mreturn\u001b[39;00m \u001b[38;5;124m'\u001b[39m\u001b[38;5;124m-\u001b[39m\u001b[38;5;124m'\u001b[39m\n\u001b[0;32m     68\u001b[0m \u001b[38;5;66;03m# Example usage\u001b[39;00m\n\u001b[1;32m---> 69\u001b[0m product_name \u001b[38;5;241m=\u001b[39m \u001b[38;5;28;43minput\u001b[39;49m\u001b[43m(\u001b[49m\u001b[38;5;124;43m'\u001b[39;49m\u001b[38;5;124;43mEnter the product name: \u001b[39;49m\u001b[38;5;124;43m'\u001b[39;49m\u001b[43m)\u001b[49m\n\u001b[0;32m     70\u001b[0m scrape_amazon_products(product_name)\n",
      "File \u001b[1;32m~\\anaconda3\\lib\\site-packages\\ipykernel\\kernelbase.py:1175\u001b[0m, in \u001b[0;36mKernel.raw_input\u001b[1;34m(self, prompt)\u001b[0m\n\u001b[0;32m   1171\u001b[0m \u001b[38;5;28;01mif\u001b[39;00m \u001b[38;5;129;01mnot\u001b[39;00m \u001b[38;5;28mself\u001b[39m\u001b[38;5;241m.\u001b[39m_allow_stdin:\n\u001b[0;32m   1172\u001b[0m     \u001b[38;5;28;01mraise\u001b[39;00m StdinNotImplementedError(\n\u001b[0;32m   1173\u001b[0m         \u001b[38;5;124m\"\u001b[39m\u001b[38;5;124mraw_input was called, but this frontend does not support input requests.\u001b[39m\u001b[38;5;124m\"\u001b[39m\n\u001b[0;32m   1174\u001b[0m     )\n\u001b[1;32m-> 1175\u001b[0m \u001b[38;5;28;01mreturn\u001b[39;00m \u001b[38;5;28;43mself\u001b[39;49m\u001b[38;5;241;43m.\u001b[39;49m\u001b[43m_input_request\u001b[49m\u001b[43m(\u001b[49m\n\u001b[0;32m   1176\u001b[0m \u001b[43m    \u001b[49m\u001b[38;5;28;43mstr\u001b[39;49m\u001b[43m(\u001b[49m\u001b[43mprompt\u001b[49m\u001b[43m)\u001b[49m\u001b[43m,\u001b[49m\n\u001b[0;32m   1177\u001b[0m \u001b[43m    \u001b[49m\u001b[38;5;28;43mself\u001b[39;49m\u001b[38;5;241;43m.\u001b[39;49m\u001b[43m_parent_ident\u001b[49m\u001b[43m[\u001b[49m\u001b[38;5;124;43m\"\u001b[39;49m\u001b[38;5;124;43mshell\u001b[39;49m\u001b[38;5;124;43m\"\u001b[39;49m\u001b[43m]\u001b[49m\u001b[43m,\u001b[49m\n\u001b[0;32m   1178\u001b[0m \u001b[43m    \u001b[49m\u001b[38;5;28;43mself\u001b[39;49m\u001b[38;5;241;43m.\u001b[39;49m\u001b[43mget_parent\u001b[49m\u001b[43m(\u001b[49m\u001b[38;5;124;43m\"\u001b[39;49m\u001b[38;5;124;43mshell\u001b[39;49m\u001b[38;5;124;43m\"\u001b[39;49m\u001b[43m)\u001b[49m\u001b[43m,\u001b[49m\n\u001b[0;32m   1179\u001b[0m \u001b[43m    \u001b[49m\u001b[43mpassword\u001b[49m\u001b[38;5;241;43m=\u001b[39;49m\u001b[38;5;28;43;01mFalse\u001b[39;49;00m\u001b[43m,\u001b[49m\n\u001b[0;32m   1180\u001b[0m \u001b[43m\u001b[49m\u001b[43m)\u001b[49m\n",
      "File \u001b[1;32m~\\anaconda3\\lib\\site-packages\\ipykernel\\kernelbase.py:1217\u001b[0m, in \u001b[0;36mKernel._input_request\u001b[1;34m(self, prompt, ident, parent, password)\u001b[0m\n\u001b[0;32m   1214\u001b[0m             \u001b[38;5;28;01mbreak\u001b[39;00m\n\u001b[0;32m   1215\u001b[0m \u001b[38;5;28;01mexcept\u001b[39;00m \u001b[38;5;167;01mKeyboardInterrupt\u001b[39;00m:\n\u001b[0;32m   1216\u001b[0m     \u001b[38;5;66;03m# re-raise KeyboardInterrupt, to truncate traceback\u001b[39;00m\n\u001b[1;32m-> 1217\u001b[0m     \u001b[38;5;28;01mraise\u001b[39;00m \u001b[38;5;167;01mKeyboardInterrupt\u001b[39;00m(\u001b[38;5;124m\"\u001b[39m\u001b[38;5;124mInterrupted by user\u001b[39m\u001b[38;5;124m\"\u001b[39m) \u001b[38;5;28;01mfrom\u001b[39;00m \u001b[38;5;28mNone\u001b[39m\n\u001b[0;32m   1218\u001b[0m \u001b[38;5;28;01mexcept\u001b[39;00m \u001b[38;5;167;01mException\u001b[39;00m:\n\u001b[0;32m   1219\u001b[0m     \u001b[38;5;28mself\u001b[39m\u001b[38;5;241m.\u001b[39mlog\u001b[38;5;241m.\u001b[39mwarning(\u001b[38;5;124m\"\u001b[39m\u001b[38;5;124mInvalid Message:\u001b[39m\u001b[38;5;124m\"\u001b[39m, exc_info\u001b[38;5;241m=\u001b[39m\u001b[38;5;28;01mTrue\u001b[39;00m)\n",
      "\u001b[1;31mKeyboardInterrupt\u001b[0m: Interrupted by user"
     ]
    },
    {
     "name": "stdout",
     "output_type": "stream",
     "text": [
      "Enter the product name: Baby essentials & toys\n"
     ]
    }
   ],
   "source": [
    "import time\n",
    "import pandas as pd\n",
    "from selenium import webdriver\n",
    "from selenium.webdriver.common.by import By\n",
    "from selenium.webdriver.chrome.service import Service\n",
    "from selenium.webdriver.common.action_chains import ActionChains\n",
    "from selenium.webdriver.common.keys import Keys\n",
    "from selenium.webdriver.chrome.options import Options\n",
    "\n",
    "def scrape_amazon_products(product_name):\n",
    "    options = Options()\n",
    "    options.add_argument(\"--headless\")  # Run Chrome in headless mode\n",
    "    options.add_argument(\"--no-sandbox\")\n",
    "    options.add_argument(\"--disable-dev-shm-usage\")\n",
    "\n",
    "    driver_path = '/path/to/chromedriver'  # Replace with the path to your ChromeDriver\n",
    "    service = Service(driver_path)\n",
    "    driver = webdriver.Chrome(service=service, options=options)\n",
    "    driver.maximize_window()\n",
    "\n",
    "    base_url = 'https://www.amazon.in'\n",
    "    search_url = f'{base_url}/s?k={product_name.replace(\" \", \"+\")}'\n",
    "\n",
    "    driver.get(search_url)\n",
    "    time.sleep(2)\n",
    "\n",
    "    # Scroll to load more results\n",
    "    for _ in range(3):\n",
    "        driver.execute_script(\"window.scrollTo(0, document.body.scrollHeight);\")\n",
    "        time.sleep(2)\n",
    "\n",
    "    product_urls = []\n",
    "    products = driver.find_elements(By.CSS_SELECTOR, 'a.a-link-normal.a-text-normal')\n",
    "    for product in products:\n",
    "        product_url = product.get_attribute('href')\n",
    "        if product_url:\n",
    "            product_urls.append(product_url)\n",
    "\n",
    "    data = []\n",
    "    for url in product_urls:\n",
    "        driver.get(url)\n",
    "        time.sleep(2)\n",
    "\n",
    "        brand_name = get_element_text(driver, 'a.a-link-normal.a-text-normal')\n",
    "        product_name = get_element_text(driver, 'span.a-size-large.product-title-word-break')\n",
    "        price = get_element_text(driver, 'span.a-offscreen')\n",
    "        return_exchange = get_element_text(driver, 'div#RETURNS_POLICY')\n",
    "        expected_delivery = get_element_text(driver, 'div#ddmDeliveryMessage')\n",
    "        availability = get_element_text(driver, 'div#availability')\n",
    "\n",
    "        data.append((brand_name, product_name, price, return_exchange, expected_delivery, availability, url))\n",
    "\n",
    "    driver.quit()\n",
    "\n",
    "    df = pd.DataFrame(data, columns=['Brand Name', 'Name of the Product', 'Price', 'Return/Exchange', 'Expected Delivery', 'Availability', 'Product URL'])\n",
    "    df.to_csv('amazon_products.csv', index=False)\n",
    "    print('Data saved successfully.')\n",
    "\n",
    "\n",
    "def get_element_text(driver, selector):\n",
    "    try:\n",
    "        element = driver.find_element(By.CSS_SELECTOR, selector)\n",
    "        return element.text.strip()\n",
    "    except:\n",
    "        return '-'\n",
    "\n",
    "\n",
    "# Example usage\n",
    "product_name = input('Enter the product name: ')\n",
    "scrape_amazon_products(product_name)\n",
    "\n",
    "\n"
   ]
  },
  {
   "cell_type": "markdown",
   "id": "6255c3c5",
   "metadata": {},
   "source": [
    "3. Write a python program to access the search bar and search button on images.google.com and scrape 10 \n",
    "images each for keywords ‘fruits’, ‘cars’ and ‘Machine Learning’, ‘Guitar’, ‘Cakes’. "
   ]
  },
  {
   "cell_type": "code",
   "execution_count": 6,
   "id": "0194e62b",
   "metadata": {},
   "outputs": [],
   "source": [
    "import time\n",
    "import pandas as pd\n",
    "from selenium import webdriver\n",
    "from selenium.webdriver.common.by import By\n",
    "from selenium.webdriver.chrome.service import Service\n",
    "from selenium.webdriver.common.action_chains import ActionChains\n",
    "from selenium.webdriver.common.keys import Keys\n",
    "from selenium.webdriver.chrome.options import Options\n",
    "from selenium.common.exceptions import ElementClickInterceptedException\n",
    " "
   ]
  },
  {
   "cell_type": "code",
   "execution_count": 8,
   "id": "be428542",
   "metadata": {},
   "outputs": [],
   "source": [
    "# first connect to the driver\n",
    "driver=webdriver.Chrome(r\"C:\\Users\\RB\\Desktop\\flip robo internship\\New folder\\chrome driver.exe\")\n"
   ]
  },
  {
   "cell_type": "code",
   "execution_count": 16,
   "id": "940a365f",
   "metadata": {},
   "outputs": [],
   "source": [
    "#First get the webpage\n",
    "driver.get(\"https://www.google.com/search?q=images.google.com&tbm=isch&sa=X&ved=2ahUKEwji1bm0ktL_AhXJDd4KHX0FCgYQ0pQJegQICxAB&biw=1360&bih=657&dpr=1\")"
   ]
  },
  {
   "cell_type": "code",
   "execution_count": 20,
   "id": "e3cc62c8",
   "metadata": {},
   "outputs": [
    {
     "ename": "IndentationError",
     "evalue": "unindent does not match any outer indentation level (<tokenize>, line 9)",
     "output_type": "error",
     "traceback": [
      "\u001b[1;36m  File \u001b[1;32m<tokenize>:9\u001b[1;36m\u001b[0m\n\u001b[1;33m    if source is not None:\u001b[0m\n\u001b[1;37m    ^\u001b[0m\n\u001b[1;31mIndentationError\u001b[0m\u001b[1;31m:\u001b[0m unindent does not match any outer indentation level\n"
     ]
    }
   ],
   "source": [
    "for _ in range(20):\n",
    "    driver.execute_script(\"window.scrollBy(0,1000)\")\n",
    "    \n",
    "images=driver.find_element(By.XPATH,'//img[@class=\"rg_i.Q4LuWd\"]')\n",
    "\n",
    "img_urls=[]\n",
    "img_data=[]\n",
    "     source=image.get_attribute('src')\n",
    "    if source is not None:\n",
    "        if(source[0:4] == 'http'):\n",
    "            img_urls.append(source)\n",
    "for i in range(len(img_urls)):\n",
    "    if i>10\n",
    "       breakBy.XPATH,\n",
    "    print(\"downloading {0} of{1} images\".format(i,10))\n",
    "    responce=request.get(img_urls[i])\n",
    "    file = open(r\"C:\\Users\\RB\\Desktop\\flip robo internship\"+str(i)+\".jpg\",\"wb\")\n",
    "    file.write(responce.content)\n",
    "                "
   ]
  },
  {
   "cell_type": "code",
   "execution_count": null,
   "id": "ec67cf10",
   "metadata": {},
   "outputs": [],
   "source": []
  },
  {
   "cell_type": "markdown",
   "id": "2ee4a847",
   "metadata": {},
   "source": [
    "#q.5 Write a program to scrap geospatial coordinates (latitude, longitude) of a city searched on google maps. "
   ]
  },
  {
   "cell_type": "code",
   "execution_count": 2,
   "id": "90689056",
   "metadata": {},
   "outputs": [
    {
     "name": "stdout",
     "output_type": "stream",
     "text": [
      "Enter a city name: indore\n",
      "An error occurred: Message: no such element: Unable to locate element: {\"method\":\"xpath\",\"selector\":\"//input[@aria-label='Search Google Maps']\"}\n",
      "  (Session info: headless chrome=114.0.5735.134)\n",
      "Stacktrace:\n",
      "Backtrace:\n",
      "\tGetHandleVerifier [0x006CA813+48355]\n",
      "\t(No symbol) [0x0065C4B1]\n",
      "\t(No symbol) [0x00565358]\n",
      "\t(No symbol) [0x005909A5]\n",
      "\t(No symbol) [0x00590B3B]\n",
      "\t(No symbol) [0x005BE232]\n",
      "\t(No symbol) [0x005AA784]\n",
      "\t(No symbol) [0x005BC922]\n",
      "\t(No symbol) [0x005AA536]\n",
      "\t(No symbol) [0x005882DC]\n",
      "\t(No symbol) [0x005893DD]\n",
      "\tGetHandleVerifier [0x0092AABD+2539405]\n",
      "\tGetHandleVerifier [0x0096A78F+2800735]\n",
      "\tGetHandleVerifier [0x0096456C+2775612]\n",
      "\tGetHandleVerifier [0x007551E0+616112]\n",
      "\t(No symbol) [0x00665F8C]\n",
      "\t(No symbol) [0x00662328]\n",
      "\t(No symbol) [0x0066240B]\n",
      "\t(No symbol) [0x00654FF7]\n",
      "\tBaseThreadInitThunk [0x762000C9+25]\n",
      "\tRtlGetAppContainerNamedObjectPath [0x77677B4E+286]\n",
      "\tRtlGetAppContainerNamedObjectPath [0x77677B1E+238]\n",
      "\n",
      "Coordinates not found for indore. Please check the city name and try again.\n"
     ]
    }
   ],
   "source": [
    "import selenium\n",
    "import pandas as pd\n",
    "from selenium import webdriver\n",
    "import warnings\n",
    "warnings.filterwarnings('ignore')\n",
    "from selenium.webdriver.common.by import By\n",
    "import time\n",
    "from selenium.webdriver.common.keys import Keys\n",
    "import requests\n",
    "from selenium.common.exceptions import NoSuchElementException\n",
    "# first connect to the driver\n",
    "driver=webdriver.Chrome(r\"C:\\Users\\RB\\Desktop\\flip robo internship\\New folder\\chrome driver.exe\")\n",
    "from selenium.webdriver.chrome.service import Service\n",
    "from selenium.webdriver.chrome.options import Options\n",
    "\n",
    "def get_coordinates(city):\n",
    "    options = Options()\n",
    "    options.add_argument(\"--headless\")  # Run Chrome in headless mode\n",
    "    service = Service('path/to/chromedriver')  # Replace with the path to your chromedriver executable\n",
    "    driver = webdriver.Chrome(service=service, options=options)\n",
    "\n",
    "    try:\n",
    "        # Open Google Maps\n",
    "        driver.get(\"https://maps.google.com\")\n",
    "\n",
    "        # Find the search input field and enter the city name\n",
    "        search_input = driver.find_element(By.XPATH, \"//input[@aria-label='Search Google Maps']\")\n",
    "        search_input.send_keys(city)\n",
    "\n",
    "        # Submit the search query\n",
    "        search_input.submit()\n",
    "\n",
    "        # Wait for the results to load\n",
    "        driver.implicitly_wait(5)\n",
    "\n",
    "        # Find the coordinates element\n",
    "        coordinates_element = driver.find_element(By.CSS_SELECTOR, \"div[data-result-type='address'] div[jsaction='pane.placeDetails']\")\n",
    "        coordinates_text = coordinates_element.get_attribute(\"aria-label\")\n",
    "\n",
    "        # Extract the latitude and longitude from the coordinates text\n",
    "        coordinates = coordinates_text.split(\" \")\n",
    "        latitude = coordinates[0]\n",
    "        longitude = coordinates[2]\n",
    "\n",
    "        return latitude, longitude\n",
    "\n",
    "    except Exception as e:\n",
    "        print(f\"An error occurred: {e}\")\n",
    "        return None\n",
    "\n",
    "    finally:\n",
    "        # Quit the driver\n",
    "        driver.quit()\n",
    "\n",
    "# Test the function\n",
    "city_name = input(\"Enter a city name: \")\n",
    "coordinates = get_coordinates(city_name)\n",
    "\n",
    "if coordinates:\n",
    "    print(f\"The coordinates of {city_name} are Latitude: {coordinates[0]}, Longitude: {coordinates[1]}\")\n",
    "else:\n",
    "    print(f\"Coordinates not found for {city_name}. Please check the city name and try again.\")\n",
    "    \n"
   ]
  },
  {
   "cell_type": "markdown",
   "id": "113b6ffe",
   "metadata": {},
   "source": [
    "#6. Write a program to scrap all the available details of best gaming laptops from digit.in"
   ]
  },
  {
   "cell_type": "code",
   "execution_count": 28,
   "id": "63337ee4",
   "metadata": {},
   "outputs": [],
   "source": [
    "import selenium\n",
    "import pandas as pd\n",
    "from selenium import webdriver\n",
    "import warnings\n",
    "warnings.filterwarnings('ignore')\n",
    "from selenium.webdriver.common.by import By\n",
    "from selenium.webdriver.chrome.service import Service\n",
    "import time"
   ]
  },
  {
   "cell_type": "code",
   "execution_count": 29,
   "id": "e5841fd1",
   "metadata": {},
   "outputs": [],
   "source": [
    "# first connect to the driver\n",
    "driver=webdriver.Chrome(r\"C:\\Users\\RB\\Desktop\\flip robo internship\\New folder\\chrome driver.exe\")"
   ]
  },
  {
   "cell_type": "code",
   "execution_count": 30,
   "id": "748f981d",
   "metadata": {},
   "outputs": [],
   "source": [
    "#First get the webpage\n",
    "driver.get(\"https://www.digit.in/\")"
   ]
  },
  {
   "cell_type": "code",
   "execution_count": 33,
   "id": "1c1cf5a2",
   "metadata": {},
   "outputs": [
    {
     "ename": "NoSuchElementException",
     "evalue": "Message: no such element: Unable to locate element: {\"method\":\"css selector\",\"selector\":\".Laptops\"}\n  (Session info: chrome=114.0.5735.134)\nStacktrace:\nBacktrace:\n\tGetHandleVerifier [0x00F1A813+48355]\n\t(No symbol) [0x00EAC4B1]\n\t(No symbol) [0x00DB5358]\n\t(No symbol) [0x00DE09A5]\n\t(No symbol) [0x00DE0B3B]\n\t(No symbol) [0x00E0E232]\n\t(No symbol) [0x00DFA784]\n\t(No symbol) [0x00E0C922]\n\t(No symbol) [0x00DFA536]\n\t(No symbol) [0x00DD82DC]\n\t(No symbol) [0x00DD93DD]\n\tGetHandleVerifier [0x0117AABD+2539405]\n\tGetHandleVerifier [0x011BA78F+2800735]\n\tGetHandleVerifier [0x011B456C+2775612]\n\tGetHandleVerifier [0x00FA51E0+616112]\n\t(No symbol) [0x00EB5F8C]\n\t(No symbol) [0x00EB2328]\n\t(No symbol) [0x00EB240B]\n\t(No symbol) [0x00EA4FF7]\n\tBaseThreadInitThunk [0x762000C9+25]\n\tRtlGetAppContainerNamedObjectPath [0x77677B4E+286]\n\tRtlGetAppContainerNamedObjectPath [0x77677B1E+238]\n",
     "output_type": "error",
     "traceback": [
      "\u001b[1;31m---------------------------------------------------------------------------\u001b[0m",
      "\u001b[1;31mNoSuchElementException\u001b[0m                    Traceback (most recent call last)",
      "Cell \u001b[1;32mIn[33], line 2\u001b[0m\n\u001b[0;32m      1\u001b[0m \u001b[38;5;66;03m# Click on the \"Laptops\" category\u001b[39;00m\n\u001b[1;32m----> 2\u001b[0m \u001b[43mdriver\u001b[49m\u001b[38;5;241;43m.\u001b[39;49m\u001b[43mfind_element\u001b[49m\u001b[43m(\u001b[49m\u001b[43mBy\u001b[49m\u001b[38;5;241;43m.\u001b[39;49m\u001b[43mCLASS_NAME\u001b[49m\u001b[43m,\u001b[49m\u001b[43m \u001b[49m\u001b[38;5;124;43m\"\u001b[39;49m\u001b[38;5;124;43mLaptops\u001b[39;49m\u001b[38;5;124;43m\"\u001b[39;49m\u001b[43m)\u001b[49m\u001b[38;5;241m.\u001b[39mclick()\n\u001b[0;32m      4\u001b[0m \u001b[38;5;66;03m# Click on the \"Gaming Laptops\" subcategory\u001b[39;00m\n\u001b[0;32m      5\u001b[0m driver\u001b[38;5;241m.\u001b[39mfind_element(By\u001b[38;5;241m.\u001b[39mCLASS_NAME, \u001b[38;5;124m\"\u001b[39m\u001b[38;5;124mGaming Laptops\u001b[39m\u001b[38;5;124m\"\u001b[39m)\u001b[38;5;241m.\u001b[39mclick()\n",
      "File \u001b[1;32m~\\anaconda3\\lib\\site-packages\\selenium\\webdriver\\remote\\webdriver.py:831\u001b[0m, in \u001b[0;36mWebDriver.find_element\u001b[1;34m(self, by, value)\u001b[0m\n\u001b[0;32m    828\u001b[0m     by \u001b[38;5;241m=\u001b[39m By\u001b[38;5;241m.\u001b[39mCSS_SELECTOR\n\u001b[0;32m    829\u001b[0m     value \u001b[38;5;241m=\u001b[39m \u001b[38;5;124mf\u001b[39m\u001b[38;5;124m'\u001b[39m\u001b[38;5;124m[name=\u001b[39m\u001b[38;5;124m\"\u001b[39m\u001b[38;5;132;01m{\u001b[39;00mvalue\u001b[38;5;132;01m}\u001b[39;00m\u001b[38;5;124m\"\u001b[39m\u001b[38;5;124m]\u001b[39m\u001b[38;5;124m'\u001b[39m\n\u001b[1;32m--> 831\u001b[0m \u001b[38;5;28;01mreturn\u001b[39;00m \u001b[38;5;28;43mself\u001b[39;49m\u001b[38;5;241;43m.\u001b[39;49m\u001b[43mexecute\u001b[49m\u001b[43m(\u001b[49m\u001b[43mCommand\u001b[49m\u001b[38;5;241;43m.\u001b[39;49m\u001b[43mFIND_ELEMENT\u001b[49m\u001b[43m,\u001b[49m\u001b[43m \u001b[49m\u001b[43m{\u001b[49m\u001b[38;5;124;43m\"\u001b[39;49m\u001b[38;5;124;43musing\u001b[39;49m\u001b[38;5;124;43m\"\u001b[39;49m\u001b[43m:\u001b[49m\u001b[43m \u001b[49m\u001b[43mby\u001b[49m\u001b[43m,\u001b[49m\u001b[43m \u001b[49m\u001b[38;5;124;43m\"\u001b[39;49m\u001b[38;5;124;43mvalue\u001b[39;49m\u001b[38;5;124;43m\"\u001b[39;49m\u001b[43m:\u001b[49m\u001b[43m \u001b[49m\u001b[43mvalue\u001b[49m\u001b[43m}\u001b[49m\u001b[43m)\u001b[49m[\u001b[38;5;124m\"\u001b[39m\u001b[38;5;124mvalue\u001b[39m\u001b[38;5;124m\"\u001b[39m]\n",
      "File \u001b[1;32m~\\anaconda3\\lib\\site-packages\\selenium\\webdriver\\remote\\webdriver.py:440\u001b[0m, in \u001b[0;36mWebDriver.execute\u001b[1;34m(self, driver_command, params)\u001b[0m\n\u001b[0;32m    438\u001b[0m response \u001b[38;5;241m=\u001b[39m \u001b[38;5;28mself\u001b[39m\u001b[38;5;241m.\u001b[39mcommand_executor\u001b[38;5;241m.\u001b[39mexecute(driver_command, params)\n\u001b[0;32m    439\u001b[0m \u001b[38;5;28;01mif\u001b[39;00m response:\n\u001b[1;32m--> 440\u001b[0m     \u001b[38;5;28;43mself\u001b[39;49m\u001b[38;5;241;43m.\u001b[39;49m\u001b[43merror_handler\u001b[49m\u001b[38;5;241;43m.\u001b[39;49m\u001b[43mcheck_response\u001b[49m\u001b[43m(\u001b[49m\u001b[43mresponse\u001b[49m\u001b[43m)\u001b[49m\n\u001b[0;32m    441\u001b[0m     response[\u001b[38;5;124m\"\u001b[39m\u001b[38;5;124mvalue\u001b[39m\u001b[38;5;124m\"\u001b[39m] \u001b[38;5;241m=\u001b[39m \u001b[38;5;28mself\u001b[39m\u001b[38;5;241m.\u001b[39m_unwrap_value(response\u001b[38;5;241m.\u001b[39mget(\u001b[38;5;124m\"\u001b[39m\u001b[38;5;124mvalue\u001b[39m\u001b[38;5;124m\"\u001b[39m, \u001b[38;5;28;01mNone\u001b[39;00m))\n\u001b[0;32m    442\u001b[0m     \u001b[38;5;28;01mreturn\u001b[39;00m response\n",
      "File \u001b[1;32m~\\anaconda3\\lib\\site-packages\\selenium\\webdriver\\remote\\errorhandler.py:245\u001b[0m, in \u001b[0;36mErrorHandler.check_response\u001b[1;34m(self, response)\u001b[0m\n\u001b[0;32m    243\u001b[0m         alert_text \u001b[38;5;241m=\u001b[39m value[\u001b[38;5;124m\"\u001b[39m\u001b[38;5;124malert\u001b[39m\u001b[38;5;124m\"\u001b[39m]\u001b[38;5;241m.\u001b[39mget(\u001b[38;5;124m\"\u001b[39m\u001b[38;5;124mtext\u001b[39m\u001b[38;5;124m\"\u001b[39m)\n\u001b[0;32m    244\u001b[0m     \u001b[38;5;28;01mraise\u001b[39;00m exception_class(message, screen, stacktrace, alert_text)  \u001b[38;5;66;03m# type: ignore[call-arg]  # mypy is not smart enough here\u001b[39;00m\n\u001b[1;32m--> 245\u001b[0m \u001b[38;5;28;01mraise\u001b[39;00m exception_class(message, screen, stacktrace)\n",
      "\u001b[1;31mNoSuchElementException\u001b[0m: Message: no such element: Unable to locate element: {\"method\":\"css selector\",\"selector\":\".Laptops\"}\n  (Session info: chrome=114.0.5735.134)\nStacktrace:\nBacktrace:\n\tGetHandleVerifier [0x00F1A813+48355]\n\t(No symbol) [0x00EAC4B1]\n\t(No symbol) [0x00DB5358]\n\t(No symbol) [0x00DE09A5]\n\t(No symbol) [0x00DE0B3B]\n\t(No symbol) [0x00E0E232]\n\t(No symbol) [0x00DFA784]\n\t(No symbol) [0x00E0C922]\n\t(No symbol) [0x00DFA536]\n\t(No symbol) [0x00DD82DC]\n\t(No symbol) [0x00DD93DD]\n\tGetHandleVerifier [0x0117AABD+2539405]\n\tGetHandleVerifier [0x011BA78F+2800735]\n\tGetHandleVerifier [0x011B456C+2775612]\n\tGetHandleVerifier [0x00FA51E0+616112]\n\t(No symbol) [0x00EB5F8C]\n\t(No symbol) [0x00EB2328]\n\t(No symbol) [0x00EB240B]\n\t(No symbol) [0x00EA4FF7]\n\tBaseThreadInitThunk [0x762000C9+25]\n\tRtlGetAppContainerNamedObjectPath [0x77677B4E+286]\n\tRtlGetAppContainerNamedObjectPath [0x77677B1E+238]\n"
     ]
    }
   ],
   "source": [
    "\n",
    "# Click on the \"Laptops\" category\n",
    "driver.find_element(By.CLASS_NAME, \"Laptops\").click()\n",
    "\n",
    "# Click on the \"Gaming Laptops\" subcategory\n",
    "driver.find_element(By.CLASS_NAME, \"Gaming Laptops\").click()\n",
    "\n",
    "# Find all the laptop elements\n",
    "laptop_elements = driver.find_elements(By.CSS_SELECTOR, \"div.searchProduct-desc\")\n",
    "\n",
    "# Iterate over the laptop elements and extract the details\n",
    "for laptop in laptop_elements:\n",
    "    name = laptop.find_element(By.CSS_SELECTOR, \"div.searchProduct-descWrap a\").text\n",
    "    price = laptop.find_element(By.CSS_SELECTOR, \"div.searchProduct-price\").text\n",
    "    rating = laptop.find_element(By.CSS_SELECTOR, \"div.search-stars\").get_attribute(\"title\")\n",
    "    \n",
    "    print(\"Name:\", name)\n",
    "    print(\"Price:\", price)\n",
    "    print(\"Rating:\", rating)\n",
    "    print(\"---\")\n",
    "\n",
    "\n"
   ]
  },
  {
   "cell_type": "code",
   "execution_count": null,
   "id": "4d1726ac",
   "metadata": {},
   "outputs": [],
   "source": []
  }
 ],
 "metadata": {
  "kernelspec": {
   "display_name": "Python 3 (ipykernel)",
   "language": "python",
   "name": "python3"
  },
  "language_info": {
   "codemirror_mode": {
    "name": "ipython",
    "version": 3
   },
   "file_extension": ".py",
   "mimetype": "text/x-python",
   "name": "python",
   "nbconvert_exporter": "python",
   "pygments_lexer": "ipython3",
   "version": "3.10.9"
  }
 },
 "nbformat": 4,
 "nbformat_minor": 5
}
