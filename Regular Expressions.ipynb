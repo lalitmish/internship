{
 "cells": [
  {
   "cell_type": "markdown",
   "id": "6a7d61a8",
   "metadata": {},
   "source": [
    "Question 1- Write a Python program to check that a string contains only a certain set of characters (in this case a-z, A-Z and 0-9)."
   ]
  },
  {
   "cell_type": "code",
   "execution_count": 2,
   "id": "58c370d8",
   "metadata": {},
   "outputs": [],
   "source": [
    "import re"
   ]
  },
  {
   "cell_type": "code",
   "execution_count": 5,
   "id": "69da2f77",
   "metadata": {},
   "outputs": [
    {
     "name": "stdout",
     "output_type": "stream",
     "text": [
      "The string contains only allowed characters\n"
     ]
    }
   ],
   "source": [
    "def contains_only_allowed_chars(string):\n",
    "    # Define the allowed characters using a regular expression\n",
    "    allowed_chars_pattern = r'^[a-zA-Z0-9]+$'\n",
    "    \n",
    "    # Use the re.match() function to check if the string matches the pattern\n",
    "    if re.match(allowed_chars_pattern, string):\n",
    "        return True\n",
    "    else:\n",
    "        return False\n",
    "\n",
    "# Test the function\n",
    "testing_string = \"IndianOil12345\"\n",
    "if contains_only_allowed_chars(testing_string):\n",
    "    print(\"The string contains only allowed characters\")\n",
    "else:\n",
    "    print(\"The string contains disallowed characters\")\n"
   ]
  },
  {
   "cell_type": "markdown",
   "id": "9461000e",
   "metadata": {},
   "source": [
    "Question 2- Create a function in python that matches a string that has an a followed by zero or more b's"
   ]
  },
  {
   "cell_type": "code",
   "execution_count": 6,
   "id": "8c57b46c",
   "metadata": {},
   "outputs": [],
   "source": [
    "import re"
   ]
  },
  {
   "cell_type": "code",
   "execution_count": 11,
   "id": "9a86907c",
   "metadata": {},
   "outputs": [
    {
     "name": "stdout",
     "output_type": "stream",
     "text": [
      "The string matches the pattern.\n",
      "The string matches the pattern.\n",
      "The string not matches the pattern.\n",
      "The string matches the pattern.\n",
      "The string matches the pattern.\n"
     ]
    }
   ],
   "source": [
    "def text_match(text):\n",
    "        patterns = r'ab*'\n",
    "        if re.match(patterns,  text):\n",
    "                return ('The string matches the pattern.')\n",
    "        else:\n",
    "                return('The string not matches the pattern.')\n",
    "print(text_match(\"ab\"))\n",
    "print(text_match(\"abc\"))\n",
    "print(text_match(\"d\"))\n",
    "print(text_match(\"ac\"))\n",
    "print(text_match(\"acc\"))"
   ]
  },
  {
   "cell_type": "markdown",
   "id": "8af842fb",
   "metadata": {},
   "source": [
    "\n",
    "Question 3-  Create a function in python that matches a string that has an a followed by one or more b's\n"
   ]
  },
  {
   "cell_type": "code",
   "execution_count": 12,
   "id": "b91d3cbb",
   "metadata": {
    "scrolled": true
   },
   "outputs": [
    {
     "name": "stdout",
     "output_type": "stream",
     "text": [
      "True\n",
      "True\n",
      "True\n",
      "False\n"
     ]
    }
   ],
   "source": [
    "import re\n",
    "\n",
    "def match_pattern(string):\n",
    "    pattern = r'a+b+'\n",
    "    match = re.match(pattern, string)\n",
    "    if match:\n",
    "        return True\n",
    "    else:\n",
    "        return False\n",
    "print(match_pattern('ab'))      \n",
    "print(match_pattern('abb'))     \n",
    "print(match_pattern('aabbb'))   \n",
    "print(match_pattern('bcd'))     "
   ]
  },
  {
   "cell_type": "markdown",
   "id": "6b0dad53",
   "metadata": {},
   "source": [
    "Question 4- Create a function in Python and use RegEx that matches a string that has an a followed by zero or one 'b'."
   ]
  },
  {
   "cell_type": "code",
   "execution_count": 13,
   "id": "6221acd4",
   "metadata": {},
   "outputs": [
    {
     "name": "stdout",
     "output_type": "stream",
     "text": [
      "True\n",
      "True\n",
      "True\n",
      "True\n"
     ]
    }
   ],
   "source": [
    "import re\n",
    "\n",
    "def match_string(string):\n",
    "    pattern = r'ab?'\n",
    "\n",
    "    if re.match(pattern, string):\n",
    "        return True\n",
    "    else:\n",
    "        return False\n",
    "print(match_string('ab'))    \n",
    "print(match_string('a'))     \n",
    "print(match_string('ac'))    \n",
    "print(match_string('abb')) "
   ]
  },
  {
   "cell_type": "markdown",
   "id": "3a0caa37",
   "metadata": {},
   "source": [
    "Question 5- Write a Python program that matches a string that has an a followed by three 'b'."
   ]
  },
  {
   "cell_type": "code",
   "execution_count": 14,
   "id": "8aceb311",
   "metadata": {},
   "outputs": [
    {
     "name": "stdout",
     "output_type": "stream",
     "text": [
      "String matches the pattern.\n",
      "String does not match the pattern.\n",
      "String does not match the pattern.\n"
     ]
    }
   ],
   "source": [
    "import re\n",
    "\n",
    "def match_string(string):\n",
    "    pattern = r'a{1}b{3}'  # Define the pattern to match 'a' followed by three 'b'\n",
    "    match = re.search(pattern, string)\n",
    "    if match:\n",
    "        print(\"String matches the pattern.\")\n",
    "    else:\n",
    "        print(\"String does not match the pattern.\")\n",
    "\n",
    "# Test the function\n",
    "string1 = \"abbb\"  # String with 'a' followed by three 'b'\n",
    "string2 = \"abb\"   # String with 'a' followed by two 'b'\n",
    "string3 = \"acccc\" # String without 'a' followed by three 'b'\n",
    "\n",
    "match_string(string1)\n",
    "match_string(string2)\n",
    "match_string(string3)\n",
    "\n"
   ]
  },
  {
   "cell_type": "markdown",
   "id": "c8cde30c",
   "metadata": {},
   "source": [
    "Question 6- Write a regular expression in Python to split a string into uppercase letters.\n",
    "Sample text: “ImportanceOfRegularExpressionsInPython”\n",
    "Output: [‘Importance’, ‘Of’, ‘Regular’, ‘Expression’, ‘In’, ‘Python’]\n"
   ]
  },
  {
   "cell_type": "code",
   "execution_count": 17,
   "id": "588eba38",
   "metadata": {},
   "outputs": [
    {
     "name": "stdout",
     "output_type": "stream",
     "text": [
      "['Importance', 'Of', 'Regular', 'Expressions', 'In', 'Python']\n"
     ]
    }
   ],
   "source": [
    "\n",
    "import re\n",
    "\n",
    "text = \"ImportanceOfRegularExpressionsInPython\"\n",
    "split_text = re.findall('[A-Z][^A-Z]*', text)\n",
    "print(split_text)"
   ]
  },
  {
   "cell_type": "code",
   "execution_count": 18,
   "id": "b6e4309f",
   "metadata": {},
   "outputs": [
    {
     "name": "stdout",
     "output_type": "stream",
     "text": [
      "['Indian', 'Fighter', 'Always', 'Ready', 'To', 'Fight']\n"
     ]
    }
   ],
   "source": [
    "import re\n",
    "\n",
    "text = \"IndianFighterAlwaysReadyToFight\"\n",
    "split_text = re.findall('[A-Z][^A-Z]*', text)\n",
    "print(split_text)"
   ]
  },
  {
   "cell_type": "markdown",
   "id": "1f3806e8",
   "metadata": {},
   "source": [
    "\n",
    "Question 7- Write a Python program that matches a string that has an a followed by two to three 'b'.\n"
   ]
  },
  {
   "cell_type": "code",
   "execution_count": 19,
   "id": "1c8f55d3",
   "metadata": {},
   "outputs": [
    {
     "name": "stdout",
     "output_type": "stream",
     "text": [
      "No match found.\n",
      "Match found!\n",
      "Match found!\n",
      "Match found!\n",
      "No match found.\n"
     ]
    }
   ],
   "source": [
    "\n",
    "import re\n",
    "\n",
    "def match_string(string):\n",
    "    pattern = r'a{1}b{2,3}'  \n",
    "    match = re.search(pattern, string)  \n",
    "\n",
    "    if match:\n",
    "        print(\"Match found!\")\n",
    "    else:\n",
    "        print(\"No match found.\")\n",
    "\n",
    "# Test the program with different strings\n",
    "match_string(\"ab\")  \n",
    "match_string(\"abb\")  \n",
    "match_string(\"abbb\")  \n",
    "match_string(\"abbbbb\")  \n",
    "match_string(\"acc\")  "
   ]
  },
  {
   "cell_type": "markdown",
   "id": "caa465e5",
   "metadata": {},
   "source": [
    "Question 8- Write a Python program to find sequences of lowercase letters joined with a underscore."
   ]
  },
  {
   "cell_type": "code",
   "execution_count": 23,
   "id": "ec7f481f",
   "metadata": {},
   "outputs": [
    {
     "name": "stdout",
     "output_type": "stream",
     "text": [
      "Not matched!\n",
      "Not matched!\n",
      "Not matched!\n"
     ]
    }
   ],
   "source": [
    "import re\n",
    "def text_match(text):\n",
    "        patterns = '^[a-z]+_[a-z]+&'\n",
    "        if re.search(patterns,  text):\n",
    "                return 'Found a match!'\n",
    "        else:\n",
    "                return('Not matched!')\n",
    "\n",
    "print(text_match(\"aab_abbbbbc\"))\n",
    "print(text_match(\"Aab_Abbbc\"))\n",
    "print(text_match(\"Aaaab_abbbc\"))"
   ]
  },
  {
   "cell_type": "markdown",
   "id": "eb1d2c47",
   "metadata": {},
   "source": [
    "Question 9- Write a Python program that matches a string that has an 'a' followed by anything, ending in 'b'."
   ]
  },
  {
   "cell_type": "code",
   "execution_count": 25,
   "id": "6fa1535b",
   "metadata": {},
   "outputs": [
    {
     "name": "stdout",
     "output_type": "stream",
     "text": [
      "Its Not matched and false!\n",
      "Its Not matched and false!\n",
      "Its Found a match and true!\n"
     ]
    }
   ],
   "source": [
    "import re\n",
    "def text_match(text):\n",
    "        patterns = 'a.*?b$'\n",
    "        if re.search(patterns,  text):\n",
    "                return ('Its Found a match and true!')\n",
    "        else:\n",
    "                return('Its Not matched and false!')\n",
    "\n",
    "print(text_match(\"abbbbeeed\"))\n",
    "print(text_match(\"aaaabAcccbbc\"))\n",
    "print(text_match(\"accddbbddeb\"))"
   ]
  },
  {
   "cell_type": "markdown",
   "id": "e72d4d91",
   "metadata": {},
   "source": [
    "Question 10- Write a Python program that matches a word at the beginning of a string."
   ]
  },
  {
   "cell_type": "code",
   "execution_count": 27,
   "id": "7f7f1554",
   "metadata": {},
   "outputs": [
    {
     "name": "stdout",
     "output_type": "stream",
     "text": [
      "The word 'hello' is found at the beginning of the string.\n"
     ]
    }
   ],
   "source": [
    "import re\n",
    "\n",
    "def match_word_at_beginning(word, string):\n",
    "    pattern = r\"\\b\" + re.escape(word) + r\"\\b\"\n",
    "    match = re.search(pattern, string)\n",
    "    if match:\n",
    "        return match.group()\n",
    "    return None\n",
    "word = \"hello\"\n",
    "string = \"hello world!\"\n",
    "result = match_word_at_beginning(word, string)\n",
    "if result:\n",
    "    print(f\"The word '{result}' is found at the beginning of the string.\")\n",
    "else:\n",
    "    print(\"No match found.\")\n",
    "\n",
    "\n",
    "\n",
    "\n",
    "\n",
    "\n"
   ]
  },
  {
   "cell_type": "markdown",
   "id": "c3892a03",
   "metadata": {},
   "source": [
    "Question 11- Write a Python program to match a string that contains only upper and lowercase letters, numbers, and underscores."
   ]
  },
  {
   "cell_type": "code",
   "execution_count": 29,
   "id": "ea337454",
   "metadata": {},
   "outputs": [
    {
     "name": "stdout",
     "output_type": "stream",
     "text": [
      "Testing string: Hello123\n",
      "String matches the pattern.\n",
      "\n",
      "Testing string: Rajesh_19011\n",
      "String matches the pattern.\n",
      "\n",
      "Testing string: hi_raju\n",
      "String matches the pattern.\n",
      "\n",
      "Testing string: In@Valid\n",
      "String does not match the pattern.\n",
      "\n"
     ]
    }
   ],
   "source": [
    "import re\n",
    "\n",
    "def match_string(input_string):\n",
    "    pattern = r'^[A-Za-z0-9_]+$'\n",
    "    if re.match(pattern, input_string):\n",
    "        print(\"String matches the pattern.\")\n",
    "    else:\n",
    "        print(\"String does not match the pattern.\")\n",
    "\n",
    "# Examples\n",
    "strings = [\"Hello123\", \"Rajesh_19011\", \"hi_raju\", \"In@Valid\"]\n",
    "for string in strings:\n",
    "    print(f\"Testing string: {string}\")\n",
    "    match_string(string)\n",
    "    print()"
   ]
  },
  {
   "cell_type": "markdown",
   "id": "ca580593",
   "metadata": {},
   "source": [
    "Question 12- Write a Python program where a string will start with a specific number. "
   ]
  },
  {
   "cell_type": "code",
   "execution_count": 32,
   "id": "8fbbff61",
   "metadata": {},
   "outputs": [
    {
     "name": "stdout",
     "output_type": "stream",
     "text": [
      "78963 starts with 78\n",
      "12489 does not start with 78\n"
     ]
    }
   ],
   "source": [
    "def starts_with_number(string, number):\n",
    "    # Convert the number to a string\n",
    "    number_str = str(number)\n",
    "    \n",
    "    # Check if the string starts with the number\n",
    "    if string.startswith(number_str):\n",
    "        return True\n",
    "    else:\n",
    "        return False\n",
    "\n",
    "# Test the function\n",
    "string1 = \"78963\"\n",
    "string2 = \"12489\"\n",
    "number = 78\n",
    "\n",
    "if starts_with_number(string1, number):\n",
    "    print(f\"{string1} starts with {number}\")\n",
    "else:\n",
    "    print(f\"{string1} does not start with {number}\")\n",
    "\n",
    "if starts_with_number(string2, number):\n",
    "    print(f\"{string2} starts with {number}\")\n",
    "else:\n",
    "    print(f\"{string2} does not start with {number}\")\n"
   ]
  },
  {
   "cell_type": "markdown",
   "id": "532ba53d",
   "metadata": {},
   "source": [
    "Question 13- Write a Python program to remove leading zeros from an IP address"
   ]
  },
  {
   "cell_type": "code",
   "execution_count": 34,
   "id": "9cc50751",
   "metadata": {},
   "outputs": [
    {
     "name": "stdout",
     "output_type": "stream",
     "text": [
      "101.188.7.134\n"
     ]
    }
   ],
   "source": [
    "import re\n",
    "ip = \"101.188.07.134\"\n",
    "string = re.sub('\\.[0]*', '.', ip)\n",
    "print(string)"
   ]
  },
  {
   "cell_type": "markdown",
   "id": "e13a49ab",
   "metadata": {},
   "source": [
    "Question 14- Write a regular expression in python to match a date string in the form of Month name followed by day number and year stored in a text file.\n",
    "Sample text : ' On August 15th 1947 that India was declared independent from British colonialism, and the reins of control were handed over to the leaders of the Country’.\n",
    "Output- August 15th 1947\n"
   ]
  },
  {
   "cell_type": "code",
   "execution_count": 35,
   "id": "0b7b2303",
   "metadata": {},
   "outputs": [
    {
     "name": "stdout",
     "output_type": "stream",
     "text": [
      "August 15th 1947\n"
     ]
    }
   ],
   "source": [
    "import re\n",
    "\n",
    "text = \"On August 15th 1947 that India was declared independent from British colonialism, and the reins of control were handed over to the leaders of the Country.\"\n",
    "\n",
    "pattern = r\"\\b([A-Z][a-z]+ \\d{1,2}(?:st|nd|rd|th)? \\d{4})\\b\"\n",
    "match = re.search(pattern, text)\n",
    "\n",
    "if match:\n",
    "    date_string = match.group(1)\n",
    "    print(date_string)"
   ]
  },
  {
   "cell_type": "code",
   "execution_count": 37,
   "id": "71bbf30b",
   "metadata": {},
   "outputs": [
    {
     "name": "stdout",
     "output_type": "stream",
     "text": [
      "Sept 18th 2023\n"
     ]
    }
   ],
   "source": [
    "import re\n",
    "\n",
    "text = \"On Sept 18th 2023 that indore metro train will test on track.\"\n",
    "\n",
    "pattern = r\"\\b([A-Z][a-z]+ \\d{1,2}(?:st|nd|rd|th)? \\d{4})\\b\"\n",
    "match = re.search(pattern, text)\n",
    "\n",
    "if match:\n",
    "    date_string = match.group(1)\n",
    "    print(date_string)"
   ]
  },
  {
   "cell_type": "markdown",
   "id": "208f434e",
   "metadata": {},
   "source": [
    "Question 15- Write a Python program to search some literals strings in a string. Go to the editor\n",
    "Sample text : 'The quick brown fox jumps over the lazy dog.'\n",
    "Searched words : 'fox', 'dog', 'horse'\n"
   ]
  },
  {
   "cell_type": "code",
   "execution_count": 39,
   "id": "92c75aac",
   "metadata": {},
   "outputs": [
    {
     "name": "stdout",
     "output_type": "stream",
     "text": [
      "Found words: ['fox', 'dog']\n"
     ]
    }
   ],
   "source": [
    "import re\n",
    "def search_strings(text, searched_words):\n",
    "    found_words = []\n",
    "    for word in searched_words:\n",
    "        if word in text:\n",
    "            found_words.append(word)\n",
    "    return found_words\n",
    "\n",
    "sample_text = 'The quick brown fox jumps over the lazy dog.'\n",
    "searched_words = ['fox', 'dog', 'horse']\n",
    "\n",
    "found_words = search_strings(sample_text, searched_words)\n",
    "print(\"Found words:\", found_words)\n"
   ]
  },
  {
   "cell_type": "markdown",
   "id": "f2a32c11",
   "metadata": {},
   "source": [
    "Question 16- Write a Python program to search a literals string in a string and also find the location within the original string where the pattern occurs\n",
    "Sample text : 'The quick brown fox jumps over the lazy dog.'\n",
    "Searched words : 'fox'\n"
   ]
  },
  {
   "cell_type": "code",
   "execution_count": 40,
   "id": "594af595",
   "metadata": {},
   "outputs": [
    {
     "name": "stdout",
     "output_type": "stream",
     "text": [
      "The word 'fox' was found at index 16\n"
     ]
    }
   ],
   "source": [
    "import re\n",
    "def search_string(text, search_word):\n",
    "    index = text.find(search_word)\n",
    "    if index != -1:\n",
    "        print(\"The word '{}' was found at index {}\".format(search_word, index))\n",
    "    else:\n",
    "        print(\"The word '{}' was not found in the text.\".format(search_word))\n",
    "\n",
    "\n",
    "sample_text = 'The quick brown fox jumps over the lazy dog.'\n",
    "searched_word = 'fox'\n",
    "\n",
    "search_string(sample_text, searched_word)"
   ]
  },
  {
   "cell_type": "markdown",
   "id": "b235839c",
   "metadata": {},
   "source": [
    "Question 17- Write a Python program to find the substrings within a string.\n",
    "Sample text : 'Python exercises, PHP exercises, C# exercises'\n",
    "Pattern : 'exercises'.\n"
   ]
  },
  {
   "cell_type": "code",
   "execution_count": 44,
   "id": "25cbc0f0",
   "metadata": {},
   "outputs": [
    {
     "name": "stdout",
     "output_type": "stream",
     "text": [
      "['exercises', 'exercises', 'exercises']\n"
     ]
    }
   ],
   "source": [
    "import re\n",
    "\n",
    "def find_substrings(text, pattern):\n",
    "    substrings = re.findall(pattern, text)\n",
    "    return substrings\n",
    "\n",
    "text = 'Python exercises, PHP exercises, C# exercises'\n",
    "pattern = 'exercises'\n",
    "\n",
    "substrings = find_substrings(text, pattern)\n",
    "print(substrings)"
   ]
  },
  {
   "cell_type": "markdown",
   "id": "c4cf830e",
   "metadata": {},
   "source": [
    "Question 18- Write a Python program to find the occurrence and position of the substrings within a string."
   ]
  },
  {
   "cell_type": "code",
   "execution_count": 47,
   "id": "421004c9",
   "metadata": {},
   "outputs": [
    {
     "name": "stdout",
     "output_type": "stream",
     "text": [
      "Found \"classess, C classess, C+# classess\" at 5:45\n",
      "Found \"classess, C+# classess\" at 17:45\n",
      "Found \"classess\" at 31:45\n"
     ]
    }
   ],
   "source": [
    "import re\n",
    "text = 'Jawa classess, C classess, C+# classess'\n",
    "pattern = 'classess'\n",
    "for match in re.finditer(pattern, text):\n",
    "    s = match.start()\n",
    "    c = match.end()\n",
    "    print('Found \"%s\" at %d:%d' % (text[s:e], s, e))"
   ]
  },
  {
   "cell_type": "markdown",
   "id": "c64f3171",
   "metadata": {},
   "source": [
    "Question 19- Write a Python program to convert a date of yyyy-mm-dd format to dd-mm-yyyy format."
   ]
  },
  {
   "cell_type": "code",
   "execution_count": 50,
   "id": "5f77ad30",
   "metadata": {},
   "outputs": [
    {
     "name": "stdout",
     "output_type": "stream",
     "text": [
      "Original date in YYYY-MM-DD Format:  2023-07-16\n",
      "New date in DD-MM-YYYY Format:  16-07-2023\n"
     ]
    }
   ],
   "source": [
    "import re\n",
    "def change_date_format(dt):\n",
    "        return re.sub(r'(\\d{4})-(\\d{1,2})-(\\d{1,2})', '\\\\3-\\\\2-\\\\1', dt)\n",
    "Date = \"2023-07-16\"\n",
    "print(\"Original date in YYYY-MM-DD Format: \",dt1)\n",
    "print(\"New date in DD-MM-YYYY Format: \",change_date_format(Date))"
   ]
  },
  {
   "cell_type": "markdown",
   "id": "59d8b3cb",
   "metadata": {},
   "source": [
    "Question 20- Write a Python program to find all words starting with 'a' or 'e' in a given string."
   ]
  },
  {
   "cell_type": "code",
   "execution_count": 52,
   "id": "e077b4b3",
   "metadata": {},
   "outputs": [
    {
     "name": "stdout",
     "output_type": "stream",
     "text": [
      "['and', 'are', 'ends', 'and', 'are', 'ery', 'es', 'eography', 'and', 'ay', 'and', 'ee']\n"
     ]
    }
   ],
   "source": [
    "import re\n",
    "# Input.\n",
    "text = \" Tom and John are good friends.You and he are both very kind. He likes geography and history. He may come and see us tonight.\"\n",
    "#find all the words starting with 'a' or 'e'\n",
    "list = re.findall(\"[ae]\\w+\", text)\n",
    "# Print result.\n",
    "print(list)"
   ]
  },
  {
   "cell_type": "markdown",
   "id": "e6105fe9",
   "metadata": {},
   "source": [
    "Question 21- Write a Python program to separate and print the numbers and their position of a given string."
   ]
  },
  {
   "cell_type": "code",
   "execution_count": 53,
   "id": "6429ffec",
   "metadata": {},
   "outputs": [
    {
     "name": "stdout",
     "output_type": "stream",
     "text": [
      "90\n",
      "Index position: 50\n"
     ]
    }
   ],
   "source": [
    "import re\n",
    "# Input.\n",
    "text = \"The teacher taught tennis to the tiny tots taking 90 time to totally teach them the tricks they thought they took time to train themselves to trump tournaments\"\n",
    "for m in re.finditer(\"\\d+\", text):\n",
    "    print(m.group(0))\n",
    "    print(\"Index position:\", m.start())"
   ]
  },
  {
   "cell_type": "markdown",
   "id": "2d8886f0",
   "metadata": {},
   "source": [
    "Question 22- Write a regular expression in python program to extract maximum numeric value from a string"
   ]
  },
  {
   "cell_type": "code",
   "execution_count": 54,
   "id": "a55bb142",
   "metadata": {},
   "outputs": [
    {
     "name": "stdout",
     "output_type": "stream",
     "text": [
      "Maximum numeric value: 789\n"
     ]
    }
   ],
   "source": [
    "import re\n",
    "\n",
    "def extract_maximum_numeric_value(string):\n",
    "    pattern = r'\\d+'  # Matches one or more digits\n",
    "    numbers = re.findall(pattern, string)\n",
    "    if numbers:\n",
    "        max_number = max(numbers, key=int)\n",
    "        return int(max_number)\n",
    "    else:\n",
    "        return None\n",
    "\n",
    "# Example usage\n",
    "input_string = \"abc123xyz456def789\"\n",
    "max_number = extract_maximum_numeric_value(input_string)\n",
    "print(\"Maximum numeric value:\", max_number)"
   ]
  },
  {
   "cell_type": "markdown",
   "id": "451074f6",
   "metadata": {},
   "source": [
    "Question 23- Write a Regex in Python to put spaces between words starting with capital letters"
   ]
  },
  {
   "cell_type": "code",
   "execution_count": 56,
   "id": "d0f6a350",
   "metadata": {},
   "outputs": [
    {
     "name": "stdout",
     "output_type": "stream",
     "text": [
      "Jawa\n",
      "Jawa Language\n",
      "Jawa Language Try To Practice And Learn\n"
     ]
    }
   ],
   "source": [
    "import re\n",
    "def capital_words_spaces(str1):\n",
    "    return re.sub(r\"(\\w)([A-Z])\", r\"\\1 \\2\", str1)\n",
    "\n",
    "print(capital_words_spaces(\"Jawa\"))\n",
    "print(capital_words_spaces(\"JawaLanguage\"))\n",
    "print(capital_words_spaces(\"JawaLanguageTryToPracticeAndLearn\"))"
   ]
  },
  {
   "cell_type": "markdown",
   "id": "41be2d0d",
   "metadata": {},
   "source": [
    "Question 25- Write a Python program to remove duplicate words from Sentence using Regular Expression"
   ]
  },
  {
   "cell_type": "code",
   "execution_count": 58,
   "id": "d5fa320e",
   "metadata": {},
   "outputs": [
    {
     "name": "stdout",
     "output_type": "stream",
     "text": [
      "sentences a is wrong This\n"
     ]
    }
   ],
   "source": [
    "import re\n",
    "\n",
    "def remove_duplicate_words(sentence):\n",
    "    words = re.findall(r'\\b(\\w+)\\b', sentence)\n",
    "    unique_words = set(words)\n",
    "    new_sentence = ' '.join(unique_words)\n",
    "    return new_sentence\n",
    "\n",
    "# Example usage:\n",
    "sentence = \"This is a wrong wrong sentences\"\n",
    "new_sentence = remove_duplicate_words(sentence)\n",
    "print(new_sentence)"
   ]
  },
  {
   "cell_type": "markdown",
   "id": "440dc665",
   "metadata": {},
   "source": [
    "Question 26-  Write a python program using RegEx to accept string ending with alphanumeric character."
   ]
  },
  {
   "cell_type": "code",
   "execution_count": 59,
   "id": "18785906",
   "metadata": {},
   "outputs": [
    {
     "name": "stdout",
     "output_type": "stream",
     "text": [
      "Enter a string: abcd\n",
      "Valid string!\n"
     ]
    }
   ],
   "source": [
    "import re\n",
    "\n",
    "def validate_string(input_string):\n",
    "    pattern = r'^.*\\w$'  # RegEx pattern: starts with any character, followed by zero or more characters and ends with an alphanumeric character\n",
    "    if re.match(pattern, input_string):\n",
    "        print(\"Valid string!\")\n",
    "    else:\n",
    "        print(\"Invalid string!\")\n",
    "\n",
    "# Test the function\n",
    "input_string = input(\"Enter a string: \")\n",
    "validate_string(input_string)"
   ]
  },
  {
   "cell_type": "markdown",
   "id": "49fd7c2b",
   "metadata": {},
   "source": [
    "Question 27-Write a python program using RegEx to extract the hashtags.\n",
    "Sample Text: text = \"\"\"RT @kapil_kausik: #Doltiwal I mean #xyzabc is \"hurt\" by #Demonetization as the same has rendered USELESS <ed><U+00A0><U+00BD><ed><U+00B1><U+0089> \"acquired funds\" No wo\"\"\"\n",
    "Output: ['#Doltiwal', '#xyzabc', '#Demonetization']\n"
   ]
  },
  {
   "cell_type": "code",
   "execution_count": 60,
   "id": "d2dbe3a6",
   "metadata": {},
   "outputs": [
    {
     "name": "stdout",
     "output_type": "stream",
     "text": [
      "['hashtags', 'morehashtags']\n"
     ]
    }
   ],
   "source": [
    "import re\n",
    "\n",
    "def extract_hashtags(text):\n",
    "    hashtags = re.findall(r\"#(\\w+)\", text)\n",
    "    return hashtags\n",
    "\n",
    "# Example usage\n",
    "text = \"This is a sample text with #hashtags and #morehashtags.\"\n",
    "hashtags = extract_hashtags(text)\n",
    "print(hashtags)"
   ]
  },
  {
   "cell_type": "markdown",
   "id": "5afd6a63",
   "metadata": {},
   "source": [
    "Question 28- Write a python program using RegEx to remove <U+..> like symbols\n",
    "Check the below sample text, there are strange symbols something of the sort <U+..> all over the place. You need to come up with a general Regex expression that will cover all such symbols.\n",
    "Sample Text: \"@Jags123456 Bharat band on 28??<ed><U+00A0><U+00BD><ed><U+00B8><U+0082>Those who  are protesting #demonetization  are all different party leaders\"\n",
    "Output: @Jags123456 Bharat band on 28??<ed><ed>Those who  are protesting #demonetization  are all different party leaders\n"
   ]
  },
  {
   "cell_type": "code",
   "execution_count": 61,
   "id": "6afd69fb",
   "metadata": {},
   "outputs": [
    {
     "name": "stdout",
     "output_type": "stream",
     "text": [
      "Check the below sample text, there are strange symbols something of the sort  all over the place.\n"
     ]
    }
   ],
   "source": [
    "import re\n",
    "\n",
    "def remove_special_symbols(text):\n",
    "    pattern = r'<U\\+[A-Za-z0-9]{4}>'\n",
    "    cleaned_text = re.sub(pattern, '', text)\n",
    "    return cleaned_text\n",
    "\n",
    "# Example usage\n",
    "sample_text = \"Check the below sample text, there are strange symbols something of the sort <U+1234> all over the place.\"\n",
    "cleaned_text = remove_special_symbols(sample_text)\n",
    "print(cleaned_text)"
   ]
  },
  {
   "cell_type": "markdown",
   "id": "475f8d33",
   "metadata": {},
   "source": [
    "Question 29- Write a python program to extract dates from the text stored in the text file.\n",
    "Sample Text: Ron was born on 12-09-1992 and he was admitted to school 15-12-1999.\n",
    "Store this sample text in the file and then extract dates.\n"
   ]
  },
  {
   "cell_type": "code",
   "execution_count": 62,
   "id": "3329bbe6",
   "metadata": {},
   "outputs": [
    {
     "name": "stdout",
     "output_type": "stream",
     "text": [
      "12-09-1992\n",
      "15-12-1999\n"
     ]
    }
   ],
   "source": [
    "import re\n",
    "\n",
    "def extract_dates_from_text(file_path):\n",
    "    with open(file_path, 'r') as file:\n",
    "        text = file.read()\n",
    "\n",
    "    # Regular expression pattern to match dates in the format dd-mm-yyyy\n",
    "    date_pattern = r'\\d{2}-\\d{2}-\\d{4}'\n",
    "\n",
    "    # Find all occurrences of the date pattern in the text\n",
    "    dates = re.findall(date_pattern, text)\n",
    "\n",
    "    return dates\n",
    "\n",
    "# Sample text\n",
    "sample_text = \"Ron was born on 12-09-1992 and he was admitted to school 15-12-1999.\"\n",
    "\n",
    "# Write the sample text to a file\n",
    "file_path = 'text_file.txt'\n",
    "with open(file_path, 'w') as file:\n",
    "    file.write(sample_text)\n",
    "\n",
    "# Extract dates from the text file\n",
    "dates = extract_dates_from_text(file_path)\n",
    "\n",
    "# Print the extracted dates\n",
    "for date in dates:\n",
    "    print(date)\n",
    "\n",
    "\n",
    "\n"
   ]
  },
  {
   "cell_type": "markdown",
   "id": "381287f9",
   "metadata": {},
   "source": [
    "Question 30- Write a Python program to replace all occurrences of a space, comma, or dot with a colon.\n",
    "Sample Text- 'Python Exercises, PHP exercises.'\n",
    "Output: Python:Exercises::PHP:exercises:\n"
   ]
  },
  {
   "cell_type": "code",
   "execution_count": 63,
   "id": "57dad3ec",
   "metadata": {},
   "outputs": [
    {
     "name": "stdout",
     "output_type": "stream",
     "text": [
      "Python:Exercises::PHP:exercises:\n"
     ]
    }
   ],
   "source": [
    "def replace_characters(text):\n",
    "    replacements = [' ', ',', '.']\n",
    "    for char in replacements:\n",
    "        text = text.replace(char, ':')\n",
    "    return text\n",
    "\n",
    "sample_text = 'Python Exercises, PHP exercises.'\n",
    "output_text = replace_characters(sample_text)\n",
    "print(output_text)"
   ]
  },
  {
   "cell_type": "code",
   "execution_count": null,
   "id": "b5ba34c5",
   "metadata": {},
   "outputs": [],
   "source": []
  }
 ],
 "metadata": {
  "kernelspec": {
   "display_name": "Python 3 (ipykernel)",
   "language": "python",
   "name": "python3"
  },
  "language_info": {
   "codemirror_mode": {
    "name": "ipython",
    "version": 3
   },
   "file_extension": ".py",
   "mimetype": "text/x-python",
   "name": "python",
   "nbconvert_exporter": "python",
   "pygments_lexer": "ipython3",
   "version": "3.10.9"
  }
 },
 "nbformat": 4,
 "nbformat_minor": 5
}
